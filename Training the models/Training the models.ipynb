{
 "cells": [
  {
   "cell_type": "code",
   "execution_count": 1,
   "metadata": {},
   "outputs": [],
   "source": [
    "import pandas as pd\n",
    "import numpy as np\n",
    "import pickle\n",
    "from sklearn.model_selection import train_test_split\n",
    "from sklearn.base import BaseEstimator, TransformerMixin\n",
    "from sklearn.pipeline import Pipeline\n",
    "from sklearn.preprocessing import OneHotEncoder, StandardScaler\n",
    "from sklearn.compose import ColumnTransformer\n",
    "from sklearn.linear_model import LinearRegression\n",
    "from sklearn.svm import SVR\n",
    "from sklearn.linear_model import Ridge\n",
    "from sklearn.model_selection import cross_val_score\n",
    "from sklearn.model_selection import GridSearchCV\n",
    "from sklearn.ensemble import RandomForestRegressor\n",
    "from sklearn import neighbors, tree, ensemble\n",
    "from sklearn.impute import SimpleImputer\n",
    "from sklearn.feature_extraction.text import CountVectorizer\n",
    "from sklearn.impute import SimpleImputer\n",
    "from sklearn import linear_model\n",
    "from sklearn.neighbors import KNeighborsRegressor\n",
    "from sklearn.metrics import accuracy_score\n",
    "from sklearn.metrics import mean_squared_error\n",
    "from sklearn.metrics import r2_score\n",
    "from sklearn.metrics import mean_absolute_error\n",
    "from pandas.plotting import scatter_matrix\n",
    "import matplotlib.pyplot as plt\n",
    "import statistics"
   ]
  },
  {
   "cell_type": "code",
   "execution_count": 2,
   "metadata": {},
   "outputs": [],
   "source": [
    "#To hide FutureWarning & DataConversionWarning from the output\n",
    "import warnings\n",
    "from sklearn.exceptions import *\n",
    "warnings.filterwarnings(\"ignore\", category=FutureWarning)\n",
    "warnings.filterwarnings(action='ignore', category=DataConversionWarning)"
   ]
  },
  {
   "cell_type": "markdown",
   "metadata": {},
   "source": [
    "# Importing listings_v3"
   ]
  },
  {
   "cell_type": "code",
   "execution_count": 3,
   "metadata": {
    "scrolled": true
   },
   "outputs": [
    {
     "data": {
      "text/html": [
       "<div>\n",
       "<style scoped>\n",
       "    .dataframe tbody tr th:only-of-type {\n",
       "        vertical-align: middle;\n",
       "    }\n",
       "\n",
       "    .dataframe tbody tr th {\n",
       "        vertical-align: top;\n",
       "    }\n",
       "\n",
       "    .dataframe thead th {\n",
       "        text-align: right;\n",
       "    }\n",
       "</style>\n",
       "<table border=\"1\" class=\"dataframe\">\n",
       "  <thead>\n",
       "    <tr style=\"text-align: right;\">\n",
       "      <th></th>\n",
       "      <th>host_is_superhost</th>\n",
       "      <th>neighbourhood</th>\n",
       "      <th>latitude</th>\n",
       "      <th>longitude</th>\n",
       "      <th>property_type</th>\n",
       "      <th>room_type</th>\n",
       "      <th>accommodates</th>\n",
       "      <th>bathrooms</th>\n",
       "      <th>bedrooms</th>\n",
       "      <th>beds</th>\n",
       "      <th>...</th>\n",
       "      <th>gym</th>\n",
       "      <th>elevator</th>\n",
       "      <th>wifi</th>\n",
       "      <th>breakfast</th>\n",
       "      <th>heating</th>\n",
       "      <th>air conditioning</th>\n",
       "      <th>tv</th>\n",
       "      <th>internet</th>\n",
       "      <th>extra pillows and blankets</th>\n",
       "      <th>polarity</th>\n",
       "    </tr>\n",
       "  </thead>\n",
       "  <tbody>\n",
       "    <tr>\n",
       "      <td>0</td>\n",
       "      <td>0.0</td>\n",
       "      <td>Uskudar</td>\n",
       "      <td>41.05650</td>\n",
       "      <td>29.05367</td>\n",
       "      <td>Apartment</td>\n",
       "      <td>Entire home/apt</td>\n",
       "      <td>2</td>\n",
       "      <td>1.0</td>\n",
       "      <td>0.0</td>\n",
       "      <td>1.0</td>\n",
       "      <td>...</td>\n",
       "      <td>0</td>\n",
       "      <td>0</td>\n",
       "      <td>1</td>\n",
       "      <td>1</td>\n",
       "      <td>1</td>\n",
       "      <td>0</td>\n",
       "      <td>1</td>\n",
       "      <td>1</td>\n",
       "      <td>0</td>\n",
       "      <td>0.392083</td>\n",
       "    </tr>\n",
       "    <tr>\n",
       "      <td>1</td>\n",
       "      <td>0.0</td>\n",
       "      <td>Besiktas</td>\n",
       "      <td>41.06984</td>\n",
       "      <td>29.04545</td>\n",
       "      <td>Apartment</td>\n",
       "      <td>Entire home/apt</td>\n",
       "      <td>3</td>\n",
       "      <td>1.0</td>\n",
       "      <td>2.0</td>\n",
       "      <td>2.0</td>\n",
       "      <td>...</td>\n",
       "      <td>0</td>\n",
       "      <td>0</td>\n",
       "      <td>0</td>\n",
       "      <td>0</td>\n",
       "      <td>1</td>\n",
       "      <td>1</td>\n",
       "      <td>1</td>\n",
       "      <td>0</td>\n",
       "      <td>0</td>\n",
       "      <td>0.352256</td>\n",
       "    </tr>\n",
       "    <tr>\n",
       "      <td>2</td>\n",
       "      <td>0.0</td>\n",
       "      <td>Beyoglu</td>\n",
       "      <td>41.03220</td>\n",
       "      <td>28.98216</td>\n",
       "      <td>Apartment</td>\n",
       "      <td>Entire home/apt</td>\n",
       "      <td>2</td>\n",
       "      <td>1.0</td>\n",
       "      <td>1.0</td>\n",
       "      <td>1.0</td>\n",
       "      <td>...</td>\n",
       "      <td>0</td>\n",
       "      <td>0</td>\n",
       "      <td>1</td>\n",
       "      <td>0</td>\n",
       "      <td>1</td>\n",
       "      <td>0</td>\n",
       "      <td>1</td>\n",
       "      <td>1</td>\n",
       "      <td>1</td>\n",
       "      <td>0.472489</td>\n",
       "    </tr>\n",
       "    <tr>\n",
       "      <td>3</td>\n",
       "      <td>0.0</td>\n",
       "      <td>Sisli</td>\n",
       "      <td>41.04471</td>\n",
       "      <td>28.98567</td>\n",
       "      <td>Serviced apartment</td>\n",
       "      <td>Hotel room</td>\n",
       "      <td>5</td>\n",
       "      <td>1.0</td>\n",
       "      <td>1.0</td>\n",
       "      <td>3.0</td>\n",
       "      <td>...</td>\n",
       "      <td>0</td>\n",
       "      <td>1</td>\n",
       "      <td>1</td>\n",
       "      <td>0</td>\n",
       "      <td>1</td>\n",
       "      <td>1</td>\n",
       "      <td>1</td>\n",
       "      <td>1</td>\n",
       "      <td>0</td>\n",
       "      <td>NaN</td>\n",
       "    </tr>\n",
       "    <tr>\n",
       "      <td>4</td>\n",
       "      <td>0.0</td>\n",
       "      <td>Sariyer</td>\n",
       "      <td>41.09048</td>\n",
       "      <td>29.05559</td>\n",
       "      <td>Apartment</td>\n",
       "      <td>Entire home/apt</td>\n",
       "      <td>2</td>\n",
       "      <td>1.0</td>\n",
       "      <td>2.0</td>\n",
       "      <td>2.0</td>\n",
       "      <td>...</td>\n",
       "      <td>0</td>\n",
       "      <td>0</td>\n",
       "      <td>1</td>\n",
       "      <td>0</td>\n",
       "      <td>1</td>\n",
       "      <td>0</td>\n",
       "      <td>1</td>\n",
       "      <td>1</td>\n",
       "      <td>0</td>\n",
       "      <td>NaN</td>\n",
       "    </tr>\n",
       "    <tr>\n",
       "      <td>...</td>\n",
       "      <td>...</td>\n",
       "      <td>...</td>\n",
       "      <td>...</td>\n",
       "      <td>...</td>\n",
       "      <td>...</td>\n",
       "      <td>...</td>\n",
       "      <td>...</td>\n",
       "      <td>...</td>\n",
       "      <td>...</td>\n",
       "      <td>...</td>\n",
       "      <td>...</td>\n",
       "      <td>...</td>\n",
       "      <td>...</td>\n",
       "      <td>...</td>\n",
       "      <td>...</td>\n",
       "      <td>...</td>\n",
       "      <td>...</td>\n",
       "      <td>...</td>\n",
       "      <td>...</td>\n",
       "      <td>...</td>\n",
       "      <td>...</td>\n",
       "    </tr>\n",
       "    <tr>\n",
       "      <td>20608</td>\n",
       "      <td>0.0</td>\n",
       "      <td>Beyoglu</td>\n",
       "      <td>41.03495</td>\n",
       "      <td>28.98621</td>\n",
       "      <td>Apartment</td>\n",
       "      <td>Entire home/apt</td>\n",
       "      <td>3</td>\n",
       "      <td>1.0</td>\n",
       "      <td>2.0</td>\n",
       "      <td>3.0</td>\n",
       "      <td>...</td>\n",
       "      <td>0</td>\n",
       "      <td>0</td>\n",
       "      <td>1</td>\n",
       "      <td>0</td>\n",
       "      <td>1</td>\n",
       "      <td>0</td>\n",
       "      <td>1</td>\n",
       "      <td>0</td>\n",
       "      <td>0</td>\n",
       "      <td>NaN</td>\n",
       "    </tr>\n",
       "    <tr>\n",
       "      <td>20609</td>\n",
       "      <td>0.0</td>\n",
       "      <td>Beyoglu</td>\n",
       "      <td>41.03027</td>\n",
       "      <td>28.97853</td>\n",
       "      <td>House</td>\n",
       "      <td>Private room</td>\n",
       "      <td>2</td>\n",
       "      <td>1.0</td>\n",
       "      <td>NaN</td>\n",
       "      <td>1.0</td>\n",
       "      <td>...</td>\n",
       "      <td>0</td>\n",
       "      <td>0</td>\n",
       "      <td>1</td>\n",
       "      <td>0</td>\n",
       "      <td>1</td>\n",
       "      <td>0</td>\n",
       "      <td>0</td>\n",
       "      <td>0</td>\n",
       "      <td>0</td>\n",
       "      <td>NaN</td>\n",
       "    </tr>\n",
       "    <tr>\n",
       "      <td>20610</td>\n",
       "      <td>0.0</td>\n",
       "      <td>Fatih</td>\n",
       "      <td>41.00408</td>\n",
       "      <td>28.97318</td>\n",
       "      <td>Boutique hotel</td>\n",
       "      <td>Private room</td>\n",
       "      <td>5</td>\n",
       "      <td>1.0</td>\n",
       "      <td>NaN</td>\n",
       "      <td>4.0</td>\n",
       "      <td>...</td>\n",
       "      <td>0</td>\n",
       "      <td>0</td>\n",
       "      <td>1</td>\n",
       "      <td>1</td>\n",
       "      <td>1</td>\n",
       "      <td>1</td>\n",
       "      <td>1</td>\n",
       "      <td>0</td>\n",
       "      <td>0</td>\n",
       "      <td>NaN</td>\n",
       "    </tr>\n",
       "    <tr>\n",
       "      <td>20611</td>\n",
       "      <td>0.0</td>\n",
       "      <td>Sariyer</td>\n",
       "      <td>41.10560</td>\n",
       "      <td>29.04835</td>\n",
       "      <td>Apartment</td>\n",
       "      <td>Private room</td>\n",
       "      <td>2</td>\n",
       "      <td>1.0</td>\n",
       "      <td>1.0</td>\n",
       "      <td>1.0</td>\n",
       "      <td>...</td>\n",
       "      <td>0</td>\n",
       "      <td>0</td>\n",
       "      <td>1</td>\n",
       "      <td>0</td>\n",
       "      <td>1</td>\n",
       "      <td>0</td>\n",
       "      <td>0</td>\n",
       "      <td>0</td>\n",
       "      <td>0</td>\n",
       "      <td>NaN</td>\n",
       "    </tr>\n",
       "    <tr>\n",
       "      <td>20612</td>\n",
       "      <td>0.0</td>\n",
       "      <td>Cekmekoy</td>\n",
       "      <td>41.02009</td>\n",
       "      <td>29.19099</td>\n",
       "      <td>Apartment</td>\n",
       "      <td>Private room</td>\n",
       "      <td>2</td>\n",
       "      <td>1.0</td>\n",
       "      <td>1.0</td>\n",
       "      <td>1.0</td>\n",
       "      <td>...</td>\n",
       "      <td>0</td>\n",
       "      <td>0</td>\n",
       "      <td>1</td>\n",
       "      <td>1</td>\n",
       "      <td>1</td>\n",
       "      <td>0</td>\n",
       "      <td>1</td>\n",
       "      <td>0</td>\n",
       "      <td>0</td>\n",
       "      <td>NaN</td>\n",
       "    </tr>\n",
       "  </tbody>\n",
       "</table>\n",
       "<p>20613 rows × 50 columns</p>\n",
       "</div>"
      ],
      "text/plain": [
       "       host_is_superhost neighbourhood  latitude  longitude  \\\n",
       "0                    0.0       Uskudar  41.05650   29.05367   \n",
       "1                    0.0      Besiktas  41.06984   29.04545   \n",
       "2                    0.0       Beyoglu  41.03220   28.98216   \n",
       "3                    0.0         Sisli  41.04471   28.98567   \n",
       "4                    0.0       Sariyer  41.09048   29.05559   \n",
       "...                  ...           ...       ...        ...   \n",
       "20608                0.0       Beyoglu  41.03495   28.98621   \n",
       "20609                0.0       Beyoglu  41.03027   28.97853   \n",
       "20610                0.0         Fatih  41.00408   28.97318   \n",
       "20611                0.0       Sariyer  41.10560   29.04835   \n",
       "20612                0.0      Cekmekoy  41.02009   29.19099   \n",
       "\n",
       "            property_type        room_type  accommodates  bathrooms  bedrooms  \\\n",
       "0               Apartment  Entire home/apt             2        1.0       0.0   \n",
       "1               Apartment  Entire home/apt             3        1.0       2.0   \n",
       "2               Apartment  Entire home/apt             2        1.0       1.0   \n",
       "3      Serviced apartment       Hotel room             5        1.0       1.0   \n",
       "4               Apartment  Entire home/apt             2        1.0       2.0   \n",
       "...                   ...              ...           ...        ...       ...   \n",
       "20608           Apartment  Entire home/apt             3        1.0       2.0   \n",
       "20609               House     Private room             2        1.0       NaN   \n",
       "20610      Boutique hotel     Private room             5        1.0       NaN   \n",
       "20611           Apartment     Private room             2        1.0       1.0   \n",
       "20612           Apartment     Private room             2        1.0       1.0   \n",
       "\n",
       "       beds  ... gym  elevator  wifi  breakfast  heating  air conditioning  \\\n",
       "0       1.0  ...   0         0     1          1        1                 0   \n",
       "1       2.0  ...   0         0     0          0        1                 1   \n",
       "2       1.0  ...   0         0     1          0        1                 0   \n",
       "3       3.0  ...   0         1     1          0        1                 1   \n",
       "4       2.0  ...   0         0     1          0        1                 0   \n",
       "...     ...  ...  ..       ...   ...        ...      ...               ...   \n",
       "20608   3.0  ...   0         0     1          0        1                 0   \n",
       "20609   1.0  ...   0         0     1          0        1                 0   \n",
       "20610   4.0  ...   0         0     1          1        1                 1   \n",
       "20611   1.0  ...   0         0     1          0        1                 0   \n",
       "20612   1.0  ...   0         0     1          1        1                 0   \n",
       "\n",
       "       tv  internet  extra pillows and blankets  polarity  \n",
       "0       1         1                           0  0.392083  \n",
       "1       1         0                           0  0.352256  \n",
       "2       1         1                           1  0.472489  \n",
       "3       1         1                           0       NaN  \n",
       "4       1         1                           0       NaN  \n",
       "...    ..       ...                         ...       ...  \n",
       "20608   1         0                           0       NaN  \n",
       "20609   0         0                           0       NaN  \n",
       "20610   1         0                           0       NaN  \n",
       "20611   0         0                           0       NaN  \n",
       "20612   1         0                           0       NaN  \n",
       "\n",
       "[20613 rows x 50 columns]"
      ]
     },
     "execution_count": 3,
     "metadata": {},
     "output_type": "execute_result"
    }
   ],
   "source": [
    "file = open('listings_v3', 'rb')\n",
    "listings_v3 = pickle.load(file)\n",
    "file.close()\n",
    "\n",
    "listings_v3"
   ]
  },
  {
   "cell_type": "markdown",
   "metadata": {},
   "source": [
    "## Splitting the data into train and test"
   ]
  },
  {
   "cell_type": "code",
   "execution_count": 4,
   "metadata": {},
   "outputs": [],
   "source": [
    "train_data, test_data = train_test_split(listings_v3, test_size=0.1, random_state=4)\n",
    "\n",
    "train_x = train_data.drop(\"price\", axis = 1).reset_index(drop=True)\n",
    "train_y = train_data[[\"price\"]].reset_index(drop=True)\n",
    "\n",
    "test_x = test_data.drop(\"price\", axis = 1).reset_index(drop=True)\n",
    "test_y = test_data[[\"price\"]].reset_index(drop=True)"
   ]
  },
  {
   "cell_type": "markdown",
   "metadata": {},
   "source": [
    "# Data reprocessing for ML"
   ]
  },
  {
   "cell_type": "markdown",
   "metadata": {},
   "source": [
    "## Handling Missing values"
   ]
  },
  {
   "cell_type": "code",
   "execution_count": 5,
   "metadata": {
    "scrolled": true
   },
   "outputs": [
    {
     "data": {
      "text/plain": [
       "['host_is_superhost',\n",
       " 'bathrooms',\n",
       " 'bedrooms',\n",
       " 'beds',\n",
       " 'review_scores_rating',\n",
       " 'review_scores_accuracy',\n",
       " 'review_scores_cleanliness',\n",
       " 'review_scores_checkin',\n",
       " 'review_scores_communication',\n",
       " 'review_scores_location',\n",
       " 'review_scores_value',\n",
       " 'polarity']"
      ]
     },
     "execution_count": 5,
     "metadata": {},
     "output_type": "execute_result"
    }
   ],
   "source": [
    "# finding features with Nan values\n",
    "def nan_columns(dataframe):\n",
    "    l = []\n",
    "    for i in dataframe.columns:\n",
    "        if dataframe[i].isnull().sum() != 0:\n",
    "            l.append(i)\n",
    "    return l\n",
    "\n",
    "nan_features = nan_columns(train_x)\n",
    "nan_features"
   ]
  },
  {
   "cell_type": "code",
   "execution_count": 6,
   "metadata": {},
   "outputs": [],
   "source": [
    "# Dropping missing samples of irreparable features\n",
    "def drop_nan(df1,df2,feature_list):\n",
    "    for feature in feature_list:\n",
    "        index = list(df1[df1[[\"{}\".format(feature)]].isnull().any(axis = 1)].index)\n",
    "        df1 = df1.drop(index, axis = 0).reset_index(drop = True)\n",
    "        df2 = df2.drop(index, axis = 0).reset_index(drop = True)\n",
    "    return df1, df2\n",
    "    \n",
    "train_x, train_y = drop_nan(train_x, train_y, ['review_scores_rating','review_scores_value',\"review_scores_cleanliness\",\"review_scores_accuracy\"])\n",
    "test_x, test_y = drop_nan(test_x,test_y, ['review_scores_rating','review_scores_value',\"review_scores_cleanliness\",\"review_scores_accuracy\"])"
   ]
  },
  {
   "cell_type": "code",
   "execution_count": 7,
   "metadata": {},
   "outputs": [],
   "source": [
    "#Filling other missing values with zero(the rest of them is numeric and discussed to be filled with \"0\")\n",
    "train_x = train_x.fillna(0)\n",
    "test_x = test_x.fillna(0)"
   ]
  },
  {
   "cell_type": "markdown",
   "metadata": {},
   "source": [
    "## Pipeline for One hot encoding and standarization"
   ]
  },
  {
   "cell_type": "code",
   "execution_count": 8,
   "metadata": {},
   "outputs": [],
   "source": [
    "# Finding categorical features :\n",
    "def cat_columns(dataframe):\n",
    "    categorical_columns = []\n",
    "    for col in dataframe.columns:\n",
    "        if (dataframe[[\"{}\".format(col)]].dtypes == \"object\").bool() == True:\n",
    "            categorical_columns.append(col)\n",
    "    return categorical_columns\n",
    "\n",
    "# Finding numerical features :\n",
    "def num_columns(dataframe):\n",
    "    categorical_columns = []\n",
    "    for col in dataframe.columns:\n",
    "        if (dataframe[[\"{}\".format(col)]].dtypes == \"float64\").bool() == True or (dataframe[[\"{}\".format(col)]].dtypes == \"int64\").bool() == True or (dataframe[[\"{}\".format(col)]].dtypes == \"int32\").bool() == True:\n",
    "            categorical_columns.append(col)\n",
    "    return categorical_columns\n",
    "\n",
    "# Convering the output data into a datafram:\n",
    "class datafram_conv(BaseEstimator, TransformerMixin):\n",
    "    def __init__(self):\n",
    "        pass\n",
    "    def fit(self, X, y=None):\n",
    "        return self\n",
    "    def transform(self, X):\n",
    "        X = pd.DataFrame(X)\n",
    "        return X\n",
    "\n",
    "# Imputer and scaler pipline for numerical features\n",
    "num_transformer = Pipeline(steps = [(\"scaler\", StandardScaler())])\n",
    "\n",
    "# One-hot encoder for categorical features\n",
    "cat_transformer = Pipeline(steps = [(\"encoder\", OneHotEncoder(sparse = False, dtype = int, handle_unknown='error'))])\n",
    "\n",
    "#Getting name of num and cat features\n",
    "cat_features = cat_columns(train_x)\n",
    "num_features = num_columns(train_x)\n",
    "\n",
    "# Integrating num and cat transformer\n",
    "processor = ColumnTransformer(transformers= [('num', num_transformer, num_features),\n",
    "                                            ('cat', cat_transformer, cat_features)])"
   ]
  },
  {
   "cell_type": "code",
   "execution_count": 9,
   "metadata": {},
   "outputs": [],
   "source": [
    "#Pipelines of data processing\n",
    "final_pipe = Pipeline(steps = [('processor', processor),\n",
    "                             (\"datafram\", datafram_conv())])\n",
    "\n",
    "# Running data preprocessing pipeline\n",
    "train_x_pipe = final_pipe.fit_transform(train_x)\n",
    "test_x_pipe = final_pipe.transform(test_x)"
   ]
  },
  {
   "cell_type": "code",
   "execution_count": 10,
   "metadata": {},
   "outputs": [
    {
     "name": "stderr",
     "output_type": "stream",
     "text": [
      "C:\\Users\\taylankabbani2019\\AppData\\Local\\Continuum\\anaconda3\\lib\\site-packages\\ipykernel_launcher.py:6: RuntimeWarning: divide by zero encountered in log\n",
      "  \n"
     ]
    },
    {
     "data": {
      "text/plain": [
       "((array([], dtype=int64), array([], dtype=int64)),\n",
       " (array([8291], dtype=int64), array([0], dtype=int64)))"
      ]
     },
     "execution_count": 10,
     "metadata": {},
     "output_type": "execute_result"
    }
   ],
   "source": [
    "#Dropping inf values\n",
    "train_y[train_y==np.inf]=np.nan\n",
    "test_y[test_y==np.inf]=np.nan\n",
    "\n",
    "# taking the log of prices.\n",
    "train_y = np.log(train_y)\n",
    "test_y = np.log(test_y)\n",
    "\n",
    "#checking the inf values\n",
    "np.where(np.isinf(test_y)), np.where(np.isinf(train_y))"
   ]
  },
  {
   "cell_type": "code",
   "execution_count": 11,
   "metadata": {},
   "outputs": [],
   "source": [
    "#dropping them from both targets and features.\n",
    "train_y = train_y.drop(train_y.index[8291])\n",
    "train_x_pipe = train_x_pipe.drop(train_x_pipe.index[8291])   "
   ]
  },
  {
   "cell_type": "markdown",
   "metadata": {},
   "source": [
    "# Model Training"
   ]
  },
  {
   "cell_type": "markdown",
   "metadata": {},
   "source": [
    "### Linear Regression"
   ]
  },
  {
   "cell_type": "code",
   "execution_count": 12,
   "metadata": {},
   "outputs": [],
   "source": [
    "# Creating the lr model\n",
    "lr_model = LinearRegression()\n",
    "\n",
    "#Training the model on train_x_e and train_y\n",
    "lr_model.fit(train_x_pipe, train_y)\n",
    "\n",
    "# Prediction of training set \n",
    "lr_train_predictions = lr_model.predict(train_x_pipe)\n",
    "\n",
    "#Test data part\n",
    "lr_test_predictions = lr_model.predict(test_x_pipe)"
   ]
  },
  {
   "cell_type": "markdown",
   "metadata": {},
   "source": [
    "### Support Vector Regression"
   ]
  },
  {
   "cell_type": "code",
   "execution_count": 13,
   "metadata": {},
   "outputs": [],
   "source": [
    "svr_reg = SVR(\"linear\")\n",
    "\n",
    "#fitting our data\n",
    "svr_reg.fit(train_x_pipe, train_y)\n",
    "#prediction on training\n",
    "svr_train_predict = svr_reg.predict(train_x_pipe)\n",
    "\n",
    "#test data part.\n",
    "svr_test_predict = svr_reg.predict(test_x_pipe)\n",
    "\n",
    "#rbf\n",
    "svr_reg2 = SVR(kernel ='rbf')\n",
    "svr_reg2.fit(train_x_pipe, train_y)\n",
    "svr_train_predict_rbf = svr_reg2.predict(train_x_pipe)\n",
    "svr_test_predict_rbf = svr_reg2.predict(test_x_pipe)\n",
    "\n",
    "\n",
    "\n",
    "#poly\n",
    "svr_reg3 = SVR(kernel = 'poly')\n",
    "svr_reg3.fit(train_x_pipe, train_y)\n",
    "svr_train_predict_poly = svr_reg3.predict(train_x_pipe)\n",
    "svr_test_predict_poly = svr_reg3.predict(test_x_pipe)"
   ]
  },
  {
   "cell_type": "markdown",
   "metadata": {},
   "source": [
    "### Ridge Regression"
   ]
  },
  {
   "cell_type": "code",
   "execution_count": 14,
   "metadata": {},
   "outputs": [],
   "source": [
    "#created two dict. to first get all the scores and for second to get the mse.\n",
    "all_scores = {}\n",
    "mean_scores = {}\n",
    "\n",
    "#in the loop, passed(i) as the alpha to get the values on lasso and after that get the cross_val_scores.\n",
    "for i in range(1,20):\n",
    "    ridge_reg = Ridge(alpha = i)\n",
    "    ridge = ridge_reg.fit(train_x_pipe, train_y) \n",
    "    ridge_reg.predict(train_x_pipe)\n",
    "    ridge_cross_scores = cross_val_score(ridge_reg, train_x_pipe, train_y, scoring=\"neg_mean_squared_error\", cv=5)    \n",
    "    all_scores[i] = abs(ridge_cross_scores)\n",
    "    mean_scores[i] = abs(ridge_cross_scores.mean())\n",
    "\n",
    "# the alpha from the min score from the mean scores dictionary.\n",
    "min_alpha = min(mean_scores, key=mean_scores.get)\n",
    "#pass the key to get the value of that.\n",
    "min_error = mean_scores.get(min_alpha)"
   ]
  },
  {
   "cell_type": "code",
   "execution_count": 15,
   "metadata": {},
   "outputs": [
    {
     "name": "stdout",
     "output_type": "stream",
     "text": [
      "Minimum error was 0.266699 at alpha 1\n"
     ]
    }
   ],
   "source": [
    "print(f\"Minimum error was {round(min_error, 8)} at alpha {min_alpha}\")"
   ]
  },
  {
   "cell_type": "code",
   "execution_count": 16,
   "metadata": {},
   "outputs": [],
   "source": [
    "ridge_reg = Ridge(alpha = i)\n",
    "ridge_reg.fit(train_x_pipe, train_y) \n",
    "\n",
    "ridge_prediction_train = ridge_reg.predict(train_x_pipe)\n",
    "ridge_prediction_test = ridge_reg.predict(test_x_pipe)"
   ]
  },
  {
   "cell_type": "markdown",
   "metadata": {},
   "source": [
    "### Random Forest"
   ]
  },
  {
   "cell_type": "code",
   "execution_count": 17,
   "metadata": {},
   "outputs": [
    {
     "name": "stdout",
     "output_type": "stream",
     "text": [
      "model's best parameter: {'max_depth': None, 'n_estimators': 250, 'random_state': 0}\n",
      "model's best MSE: 0.22711352836482493\n"
     ]
    }
   ],
   "source": [
    "# Random forest regression model:\n",
    "forest_reg = ensemble.RandomForestRegressor()\n",
    "\n",
    "# Hyperparameter possible combinations:\n",
    "forest_hyperparameters = [{'n_estimators':[25, 50, 100, 250], \n",
    "                          'max_depth':[None, 1, 5, 10], \n",
    "                          'random_state':[0]}]\n",
    "# Building Random forest model with grid search\n",
    "forest_grid = GridSearchCV(forest_reg ,forest_hyperparameters, cv=5, scoring='neg_mean_squared_error')\n",
    "forest_grid.fit(train_x_pipe, train_y)\n",
    "\n",
    "# model's best parameters and MSE\n",
    "print(\"model's best parameter: {}\\nmodel's best MSE: {}\".format(forest_grid.best_params_,\n",
    "                                                                abs(forest_grid.best_score_)))"
   ]
  },
  {
   "cell_type": "code",
   "execution_count": 18,
   "metadata": {},
   "outputs": [
    {
     "data": {
      "text/plain": [
       "RandomForestRegressor(bootstrap=True, criterion='mse', max_depth=None,\n",
       "                      max_features='auto', max_leaf_nodes=None,\n",
       "                      min_impurity_decrease=0.0, min_impurity_split=None,\n",
       "                      min_samples_leaf=1, min_samples_split=2,\n",
       "                      min_weight_fraction_leaf=0.0, n_estimators=250,\n",
       "                      n_jobs=None, oob_score=False, random_state=0, verbose=0,\n",
       "                      warm_start=False)"
      ]
     },
     "execution_count": 18,
     "metadata": {},
     "output_type": "execute_result"
    }
   ],
   "source": [
    "best_forest = RandomForestRegressor(max_depth = None, n_estimators = 250, random_state = 0)\n",
    "best_forest.fit(train_x_pipe, train_y)"
   ]
  },
  {
   "cell_type": "markdown",
   "metadata": {},
   "source": [
    "### KNN"
   ]
  },
  {
   "cell_type": "code",
   "execution_count": 19,
   "metadata": {},
   "outputs": [],
   "source": [
    "#creating split.\n",
    "X_train, X_val, y_train, y_val = train_test_split(train_x_pipe, train_y, test_size=0.2, random_state = 0)\n",
    "#renaming them as in the template.\n",
    "train_split_x = X_train\n",
    "train_split_y = y_train\n",
    "val_split_x = X_val\n",
    "val_split_y = y_val\n",
    "\n",
    "#creating the error arrays\n",
    "knn_training_errors = []\n",
    "knn_validation_errors = []\n",
    "#the for loop\n",
    "for i in range(1,30):\n",
    "    neighbor = KNeighborsRegressor(n_neighbors = i)\n",
    "    neighbor.fit(train_split_x, train_split_y)\n",
    "    train_neighbor_prediction = neighbor.predict(train_split_x)\n",
    "    val_neighbor_prediction = neighbor.predict(val_split_x)\n",
    "    #appending the arrays\n",
    "    knn_training_errors.append(mean_squared_error(train_split_y, train_neighbor_prediction))\n",
    "    knn_validation_errors.append(mean_squared_error(val_split_y, val_neighbor_prediction))"
   ]
  },
  {
   "cell_type": "code",
   "execution_count": 20,
   "metadata": {},
   "outputs": [
    {
     "name": "stdout",
     "output_type": "stream",
     "text": [
      "Min Error for validation is: 0.30311665059996734 ,index found at(index) 10\n"
     ]
    }
   ],
   "source": [
    "#getting the lowest error index for the best model.\n",
    "validation_index_min = min(range(len(knn_validation_errors)), key=knn_validation_errors.__getitem__)\n",
    "print(\"Min Error for validation is:\", min(knn_validation_errors), \",index found at(index)\", validation_index_min)"
   ]
  },
  {
   "cell_type": "code",
   "execution_count": 21,
   "metadata": {},
   "outputs": [
    {
     "data": {
      "text/plain": [
       "KNeighborsRegressor(algorithm='auto', leaf_size=30, metric='minkowski',\n",
       "                    metric_params=None, n_jobs=None, n_neighbors=6, p=2,\n",
       "                    weights='uniform')"
      ]
     },
     "execution_count": 21,
     "metadata": {},
     "output_type": "execute_result"
    }
   ],
   "source": [
    "best_neighbor = KNeighborsRegressor(6)\n",
    "best_neighbor.fit(train_split_x, train_split_y)"
   ]
  },
  {
   "cell_type": "code",
   "execution_count": 22,
   "metadata": {},
   "outputs": [
    {
     "data": {
      "text/plain": [
       "Text(0, 0.5, 'Error')"
      ]
     },
     "execution_count": 22,
     "metadata": {},
     "output_type": "execute_result"
    },
    {
     "data": {
      "image/png": "[encoded data removed]",
      "text/plain": [
       "<Figure size 432x288 with 1 Axes>"
      ]
     },
     "metadata": {
      "needs_background": "light"
     },
     "output_type": "display_data"
    }
   ],
   "source": [
    "plt.plot((knn_training_errors), \"r-+\", linewidth=2, label=\"train\")\n",
    "plt.plot((knn_validation_errors), \"b-\", linewidth=3, label=\"val\")\n",
    "plt.legend(loc=\"upper right\", fontsize=14)   \n",
    "plt.xlabel(\"K\", fontsize=14) \n",
    "plt.ylabel(\"Error\", fontsize=14)"
   ]
  },
  {
   "cell_type": "markdown",
   "metadata": {},
   "source": [
    "# Cross Validation Part"
   ]
  },
  {
   "cell_type": "markdown",
   "metadata": {},
   "source": [
    "### Linear Regression"
   ]
  },
  {
   "cell_type": "code",
   "execution_count": 23,
   "metadata": {},
   "outputs": [],
   "source": [
    "#Cross validation on the Linear Regression Mean Squared Scores\n",
    "linear_model_cross_mse = cross_val_score(lr_model, train_x_pipe, train_y, scoring=\"neg_mean_squared_error\", cv=10)\n",
    "cross_linear_mse_scores = np.mean(abs(linear_model_cross_mse))\n",
    "\n",
    "#Cross validation on the Linear Regression Abs Scores\n",
    "linear_model_cross_absolute = cross_val_score(lr_model, train_x_pipe, train_y, scoring=\"neg_mean_absolute_error\", cv=10)\n",
    "cross_linear_abs_scores = np.mean(abs(linear_model_cross_absolute))\n",
    "\n",
    "#Cross validation on the Linear regression R2 Scores\n",
    "linear_model_cross_r2 = cross_val_score(lr_model, train_x_pipe, train_y, scoring=\"r2\", cv=10)\n",
    "cross_linear_r2_scores = np.mean(abs(linear_model_cross_r2))"
   ]
  },
  {
   "cell_type": "markdown",
   "metadata": {},
   "source": [
    "### Support Vector Regression "
   ]
  },
  {
   "cell_type": "code",
   "execution_count": 24,
   "metadata": {},
   "outputs": [],
   "source": [
    "#Cross validation on the Support Vector Regression\n",
    "best_svr_model_cross = cross_val_score(svr_reg2, train_x_pipe, train_y, scoring=\"neg_mean_squared_error\", cv=10)\n",
    "best_cross_svr_scores = abs((best_svr_model_cross))\n",
    "\n",
    "\n",
    "best_svr_model_cross_abs = cross_val_score(svr_reg2, train_x_pipe, train_y, scoring=\"neg_mean_absolute_error\", cv=10)\n",
    "best_cross_svr_scores_abs = abs((best_svr_model_cross_abs))\n",
    "\n",
    "\n",
    "best_svr_model_cross_r2 = cross_val_score(svr_reg2, train_x_pipe, train_y, scoring=\"r2\", cv=10)\n",
    "best_cross_svr_scores_r2 = abs((best_svr_model_cross_r2))\n",
    "\n",
    "svr_round_mse = np.round(np.mean(best_cross_svr_scores),4)\n",
    "svr_round_abs = np.round(np.mean(best_cross_svr_scores_abs),4)\n",
    "svr_round_r2 = np.round(np.mean(best_cross_svr_scores_r2),4)"
   ]
  },
  {
   "cell_type": "markdown",
   "metadata": {},
   "source": [
    "### Random Forest"
   ]
  },
  {
   "cell_type": "code",
   "execution_count": 25,
   "metadata": {},
   "outputs": [],
   "source": [
    "#Cross validation on the Random Forest\n",
    "best_randomforest_model_cross = cross_val_score(forest_reg, train_x_pipe, train_y, scoring=\"neg_mean_squared_error\",cv=10)\n",
    "best_cross_randomforest_scores = abs((best_randomforest_model_cross))\n",
    "\n",
    "\n",
    "\n",
    "best_randomforest_model_cross_abs = cross_val_score(forest_reg, train_x_pipe, train_y, scoring=\"neg_mean_absolute_error\", cv=10)\n",
    "best_cross_randomforest_scores_abs = abs((best_randomforest_model_cross_abs))\n",
    "\n",
    "best_randomforest_model_cross_r2 = cross_val_score(forest_reg, train_x_pipe, train_y, scoring=\"r2\", cv=10)\n",
    "best_cross_randomforest_scores_r2 = abs((best_randomforest_model_cross_r2))\n",
    "\n",
    "\n",
    "rf_round_mse = np.round(np.mean(best_cross_randomforest_scores),4)\n",
    "rf_round_abs = np.round(np.mean(best_cross_randomforest_scores_abs),4)\n",
    "rf_round_r2 = np.round(np.mean(best_cross_randomforest_scores_r2),4)"
   ]
  },
  {
   "cell_type": "markdown",
   "metadata": {},
   "source": [
    "### KNN"
   ]
  },
  {
   "cell_type": "code",
   "execution_count": 26,
   "metadata": {},
   "outputs": [],
   "source": [
    "#Cross validation on the Random Forest\n",
    "best_knn_model_cross = cross_val_score(best_neighbor, train_x_pipe, train_y, scoring=\"neg_mean_squared_error\", cv=10)\n",
    "best_cross_knn_scores = abs((best_knn_model_cross))\n",
    "\n",
    "best_knn_model_cross_abs = cross_val_score(best_neighbor, train_x_pipe, train_y, scoring=\"neg_mean_absolute_error\", cv=10)\n",
    "best_cross_knn_scores_abs = abs((best_knn_model_cross_abs))\n",
    "\n",
    "best_knn_model_cross_r2 = cross_val_score(best_neighbor, train_x_pipe, train_y, scoring=\"r2\", cv=10)\n",
    "best_cross_knn_scores_r2 = abs((best_knn_model_cross_r2))\n",
    "\n",
    "\n",
    "knn_round_mse = np.round(np.mean(best_cross_knn_scores),4)\n",
    "knn_round_abs = np.round(np.mean(best_cross_knn_scores_abs),4)\n",
    "knn_round_r2 = np.round(np.mean(best_cross_knn_scores_r2),4)"
   ]
  },
  {
   "cell_type": "markdown",
   "metadata": {},
   "source": [
    "### Ridge Regression"
   ]
  },
  {
   "cell_type": "code",
   "execution_count": 27,
   "metadata": {},
   "outputs": [],
   "source": [
    "#Cross validation on the Ridge Regeression\n",
    "ridge_model_cross = cross_val_score(ridge_reg, train_x_pipe, train_y, scoring=\"neg_mean_squared_error\", cv=10)\n",
    "ridge_mse_scores = abs((ridge_model_cross))\n",
    "\n",
    "ridge_model_cross_abs = cross_val_score(ridge_reg, train_x_pipe, train_y, scoring=\"neg_mean_absolute_error\", cv=10)\n",
    "ridge_mse_scores_abs = abs((ridge_model_cross_abs))\n",
    "\n",
    "ridge_model_cross_r2 = cross_val_score(ridge_reg, train_x_pipe, train_y, scoring=\"r2\", cv=10)\n",
    "ridge_mse_scores_r2 = abs((ridge_model_cross_r2))\n",
    "\n",
    "\n",
    "ridge_round_mse = np.round(np.mean(ridge_mse_scores),4)\n",
    "ridge_round_abs = np.round(np.mean(ridge_mse_scores_abs),4)\n",
    "ridge_round_r2 = np.round(np.mean(ridge_mse_scores_r2),4)"
   ]
  },
  {
   "cell_type": "markdown",
   "metadata": {},
   "source": [
    "## Getting scores of models"
   ]
  },
  {
   "cell_type": "code",
   "execution_count": 28,
   "metadata": {},
   "outputs": [],
   "source": [
    "#Linear Regression Cross Validation\n",
    "lin_cross = np.mean(cross_linear_mse_scores)\n",
    "\n",
    "#Support Vector Cross Validation\n",
    "svr_cross = np.mean(best_cross_svr_scores)\n",
    "\n",
    "#Random Forest Cross Validation\n",
    "random_forest_cross = np.mean(best_cross_randomforest_scores)\n",
    "\n",
    "#KNN Cross Validation Score\n",
    "knn_cross =  np.mean(best_cross_knn_scores)\n",
    "\n",
    "#Ridge Regression Cross Validation Score\n",
    "ridge_cross =  np.mean(ridge_mse_scores)"
   ]
  },
  {
   "cell_type": "code",
   "execution_count": 29,
   "metadata": {},
   "outputs": [],
   "source": [
    "round_linear_abs = round(cross_linear_abs_scores,4 )\n",
    "round_linear_mse = round(cross_linear_mse_scores,4 )\n",
    "round_linear_r2 = round(cross_linear_r2_scores,4)"
   ]
  },
  {
   "cell_type": "code",
   "execution_count": 30,
   "metadata": {},
   "outputs": [],
   "source": [
    "#KNN Scores\n",
    "knn_train_predict = best_neighbor.predict(train_x_pipe)\n",
    "knn_test_predict = best_neighbor.predict(test_x_pipe)\n",
    "\n",
    "knn_train_mse = round(mean_squared_error(train_y, knn_train_predict),4)\n",
    "knn_train_abs = round(mean_absolute_error(train_y, knn_train_predict),4)\n",
    "knn_train_r2 = round(r2_score(train_y, knn_train_predict),4)\n",
    "\n",
    "knn_test_mse = round(mean_squared_error(test_y, knn_test_predict),4)\n",
    "knn_test_abs = round(mean_absolute_error(test_y, knn_test_predict ),4)\n",
    "knn_test_r2 = round(r2_score(test_y, knn_test_predict),4)"
   ]
  },
  {
   "cell_type": "code",
   "execution_count": 31,
   "metadata": {},
   "outputs": [],
   "source": [
    "#Random Forest Scores\n",
    "\n",
    "forest_train_predict = best_forest.predict(train_x_pipe)\n",
    "forest_test_predict = best_forest.predict(test_x_pipe)\n",
    "\n",
    "forest_train_mse = round(mean_squared_error(train_y, forest_train_predict),4)\n",
    "forest_train_abs = round(mean_absolute_error(train_y, forest_train_predict),4)\n",
    "forest_train_r2 = round(r2_score(train_y, forest_train_predict),4)\n",
    "\n",
    "forest_test_mse = round(mean_squared_error(test_y, forest_test_predict),4)\n",
    "forest_test_abs = round(mean_absolute_error(test_y, forest_test_predict),4)\n",
    "forest_test_r2 = round(r2_score(test_y, forest_test_predict),4)"
   ]
  },
  {
   "cell_type": "code",
   "execution_count": 32,
   "metadata": {},
   "outputs": [],
   "source": [
    "#Ridge Scores\n",
    "ridge_regression_train_mse = round(mean_squared_error(train_y, ridge_prediction_train),4)\n",
    "ridge_regression_train_abs = round(mean_absolute_error(train_y, ridge_prediction_train),4)\n",
    "ridge_regression_train_r2 = round(r2_score(train_y, ridge_prediction_train),4)\n",
    "\n",
    "ridge_regression_test_mse = round(mean_squared_error(test_y, ridge_prediction_test),4)\n",
    "ridge_regression_test_abs = round(mean_absolute_error(test_y, ridge_prediction_test),4)\n",
    "ridge_regression_test_r2 = round(r2_score(test_y, ridge_prediction_test),4)"
   ]
  },
  {
   "cell_type": "code",
   "execution_count": 33,
   "metadata": {},
   "outputs": [],
   "source": [
    "#SVR model mean absolute error, mean squared error, and r square scores for both training and test set.\n",
    "svr_abs_training = round(mean_absolute_error(train_y,svr_train_predict),4)\n",
    "svr_mse_training = round(mean_squared_error(train_y, svr_train_predict),4)\n",
    "svr_r2_score = round(r2_score(train_y, svr_train_predict), 4)\n",
    "\n",
    "svr_abs_test = round(mean_absolute_error(test_y,svr_test_predict),4)\n",
    "svr_mse_test = round(mean_squared_error(test_y, svr_test_predict),4)\n",
    "svr_r2_score_test = round(r2_score(test_y, svr_test_predict), 4)"
   ]
  },
  {
   "cell_type": "code",
   "execution_count": 34,
   "metadata": {},
   "outputs": [],
   "source": [
    "#Linear model mean absolute error, mean squared error, and r square scores for both training and test set.\n",
    "lr_abs_training = round(mean_absolute_error(train_y,lr_train_predictions),4)\n",
    "lr_mse_training = round(mean_squared_error(train_y,lr_train_predictions),4)\n",
    "lr_r2_score =  round(r2_score(train_y, lr_train_predictions), 4)\n",
    "\n",
    "\n",
    "lr_abs_test= round(mean_absolute_error(test_y,lr_test_predictions),4)\n",
    "lr_mse_test = round(mean_squared_error(test_y, lr_test_predictions),4)\n",
    "lr_r2_score_test =  round(r2_score(test_y, lr_test_predictions), 4)"
   ]
  },
  {
   "cell_type": "code",
   "execution_count": 35,
   "metadata": {},
   "outputs": [],
   "source": [
    "#SVR RBF AND POLY; mean absolute error, mean squared error, and r square scores for both training and test set.\n",
    "\n",
    "# RBF\n",
    "svr_mse_training_rbf = round(mean_squared_error(train_y, svr_train_predict_rbf),4)\n",
    "svr_mae_training_rbf = round(mean_absolute_error(train_y, svr_train_predict_rbf),4)\n",
    "svr_r2_score = round(r2_score(train_y, svr_train_predict_rbf),4)\n",
    "\n",
    "\n",
    "svr_mse_test_rbf = round(mean_squared_error(test_y, svr_test_predict_rbf),4)\n",
    "svr_mae_test_rbf = round(mean_absolute_error(test_y, svr_test_predict_rbf),4)\n",
    "svr_r2_score_test = round(r2_score(test_y, svr_test_predict_rbf),4)\n",
    "\n",
    "# POLY\n",
    "svr_mse_training_poly = round(mean_squared_error(train_y, svr_train_predict_poly),4)\n",
    "svr_mae_training_poly = round(mean_absolute_error(train_y, svr_train_predict_poly),4)\n",
    "svr_r2_score_poly = round(r2_score(train_y, svr_train_predict_poly),4)\n",
    "\n",
    "\n",
    "svr_mse_test_poly = round(mean_squared_error(test_y, svr_test_predict_poly),4)\n",
    "svr_mae_test_poly = round(mean_absolute_error(test_y, svr_test_predict_poly),4)\n",
    "svr_r2_score_test_poly = round(r2_score(test_y, svr_test_predict_poly),4)"
   ]
  },
  {
   "cell_type": "code",
   "execution_count": 36,
   "metadata": {},
   "outputs": [
    {
     "name": "stdout",
     "output_type": "stream",
     "text": [
      "Model Name                  Training split                                        Test split\n",
      "                 MAE         MSE            R^2                             MAE      MSE     R^2\n",
      "Linear        216705319.5045 7.3502319111504806e+19 1.2641363308986927e+20    0.3872  0.2583   0.5424\n",
      "SVR(RBF)      0.3429        0.2358          0.5968                           0.3529   0.2228   0.6053\n",
      "Ridge Regr.   0.3776         0.268          0.5408                           0.3858   0.2564   0.5457\n",
      "Random Forest 0.3567        0.2477          0.5712                           0.3416     0.2147   0.6197\n",
      "KNN           0.4043        0.3044          0.477                           0.4258   0.3145   0.4428\n"
     ]
    }
   ],
   "source": [
    "print(\"Model Name\",\"       \" ,\"         Training split\", \"      \", \"                                Test split\")\n",
    "print(\"          \",\"      MAE   \",  \"     MSE   \", \"        R^2\",\"   \", \"                        MAE   \",  \"  MSE    \", \"R^2\")\n",
    " \n",
    "print(\"Linear       \",round_linear_abs, round_linear_mse, round_linear_r2,\"  \",lr_abs_test,\"\",lr_mse_test,\" \",lr_r2_score_test)\n",
    "print(\"SVR(RBF)     \",svr_round_abs,\"      \", svr_round_mse,\"        \", svr_round_r2,\"                         \",svr_mae_test_rbf,\" \",svr_mse_test_rbf,\" \",svr_r2_score_test)\n",
    "print(\"Ridge Regr.  \",ridge_round_abs,\"       \",ridge_round_mse,\"        \",ridge_round_r2,\"                         \",ridge_regression_test_abs,\" \",ridge_regression_test_mse,\" \",ridge_regression_test_r2)\n",
    "print(\"Random Forest\",rf_round_abs,\"      \",rf_round_mse,\"        \",rf_round_r2,\"                         \",forest_test_abs ,\"   \",forest_test_mse,\" \",forest_test_r2 )\n",
    "print(\"KNN          \",knn_round_abs,\"      \",knn_round_mse,\"        \",knn_round_r2,\"                         \", knn_test_abs,\" \",knn_test_mse,\" \", knn_test_r2)"
   ]
  },
  {
   "cell_type": "code",
   "execution_count": 37,
   "metadata": {},
   "outputs": [
    {
     "name": "stdout",
     "output_type": "stream",
     "text": [
      "0.6196824194937167\n"
     ]
    }
   ],
   "source": [
    "random_forest_best_model = r2_score(test_y,forest_test_predict)\n",
    "print(random_forest_best_model)"
   ]
  }
 ],
 "metadata": {
  "kernelspec": {
   "display_name": "Python 3",
   "language": "python",
   "name": "python3"
  },
  "language_info": {
   "codemirror_mode": {
    "name": "ipython",
    "version": 3
   },
   "file_extension": ".py",
   "mimetype": "text/x-python",
   "name": "python",
   "nbconvert_exporter": "python",
   "pygments_lexer": "ipython3",
   "version": "3.7.4"
  }
 },
 "nbformat": 4,
 "nbformat_minor": 2
}
